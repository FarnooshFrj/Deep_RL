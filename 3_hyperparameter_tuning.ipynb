{
  "cells": [
    {
      "cell_type": "markdown",
      "metadata": {
        "id": "CdhdXB_pPhcq"
      },
      "source": [
        "## Hyperparameter tuning with Optuna\n",
        "\n",
        "![optuna-logo.png](data:image/png;base64,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)"
      ]
    },
    {
      "cell_type": "code",
      "execution_count": 12,
      "metadata": {
        "id": "2-XLsLHoPXYv"
      },
      "outputs": [],
      "source": [
        "%%capture\n",
        "\n",
        "!apt-get update && apt-get install -y xvfb\n",
        "!pip install swig\n",
        "!pip install gym[box2d]==0.23.1\n",
        "!pip install pytorch-lightning==1.6.0\n",
        "!pip install pyvirtualdisplay"
      ]
    },
    {
      "cell_type": "code",
      "source": [
        "!pip install pytorch-lightning"
      ],
      "metadata": {
        "colab": {
          "base_uri": "https://localhost:8080/"
        },
        "id": "GQvof5ASt4bB",
        "outputId": "65d0aa6b-3334-4857-b437-0651188f1757"
      },
      "execution_count": 13,
      "outputs": [
        {
          "output_type": "stream",
          "name": "stdout",
          "text": [
            "Collecting pytorch-lightning\n",
            "  Using cached pytorch_lightning-2.5.0.post0-py3-none-any.whl.metadata (21 kB)\n",
            "Requirement already satisfied: torch>=2.1.0 in /usr/local/lib/python3.11/dist-packages (from pytorch-lightning) (2.5.1+cu124)\n",
            "Requirement already satisfied: tqdm>=4.57.0 in /usr/local/lib/python3.11/dist-packages (from pytorch-lightning) (4.67.1)\n",
            "Requirement already satisfied: PyYAML>=5.4 in /usr/local/lib/python3.11/dist-packages (from pytorch-lightning) (6.0.2)\n",
            "Requirement already satisfied: fsspec>=2022.5.0 in /usr/local/lib/python3.11/dist-packages (from fsspec[http]>=2022.5.0->pytorch-lightning) (2024.10.0)\n",
            "Collecting torchmetrics>=0.7.0 (from pytorch-lightning)\n",
            "  Using cached torchmetrics-1.6.2-py3-none-any.whl.metadata (20 kB)\n",
            "Requirement already satisfied: packaging>=20.0 in /usr/local/lib/python3.11/dist-packages (from pytorch-lightning) (24.2)\n",
            "Requirement already satisfied: typing-extensions>=4.4.0 in /usr/local/lib/python3.11/dist-packages (from pytorch-lightning) (4.12.2)\n",
            "Requirement already satisfied: lightning-utilities>=0.10.0 in /usr/local/lib/python3.11/dist-packages (from pytorch-lightning) (0.13.1)\n",
            "Requirement already satisfied: aiohttp!=4.0.0a0,!=4.0.0a1 in /usr/local/lib/python3.11/dist-packages (from fsspec[http]>=2022.5.0->pytorch-lightning) (3.11.13)\n",
            "Requirement already satisfied: setuptools in /usr/local/lib/python3.11/dist-packages (from lightning-utilities>=0.10.0->pytorch-lightning) (75.1.0)\n",
            "Requirement already satisfied: filelock in /usr/local/lib/python3.11/dist-packages (from torch>=2.1.0->pytorch-lightning) (3.17.0)\n",
            "Requirement already satisfied: networkx in /usr/local/lib/python3.11/dist-packages (from torch>=2.1.0->pytorch-lightning) (3.4.2)\n",
            "Requirement already satisfied: jinja2 in /usr/local/lib/python3.11/dist-packages (from torch>=2.1.0->pytorch-lightning) (3.1.5)\n",
            "Requirement already satisfied: nvidia-cuda-nvrtc-cu12==12.4.127 in /usr/local/lib/python3.11/dist-packages (from torch>=2.1.0->pytorch-lightning) (12.4.127)\n",
            "Requirement already satisfied: nvidia-cuda-runtime-cu12==12.4.127 in /usr/local/lib/python3.11/dist-packages (from torch>=2.1.0->pytorch-lightning) (12.4.127)\n",
            "Requirement already satisfied: nvidia-cuda-cupti-cu12==12.4.127 in /usr/local/lib/python3.11/dist-packages (from torch>=2.1.0->pytorch-lightning) (12.4.127)\n",
            "Requirement already satisfied: nvidia-cudnn-cu12==9.1.0.70 in /usr/local/lib/python3.11/dist-packages (from torch>=2.1.0->pytorch-lightning) (9.1.0.70)\n",
            "Requirement already satisfied: nvidia-cublas-cu12==12.4.5.8 in /usr/local/lib/python3.11/dist-packages (from torch>=2.1.0->pytorch-lightning) (12.4.5.8)\n",
            "Requirement already satisfied: nvidia-cufft-cu12==11.2.1.3 in /usr/local/lib/python3.11/dist-packages (from torch>=2.1.0->pytorch-lightning) (11.2.1.3)\n",
            "Requirement already satisfied: nvidia-curand-cu12==10.3.5.147 in /usr/local/lib/python3.11/dist-packages (from torch>=2.1.0->pytorch-lightning) (10.3.5.147)\n",
            "Collecting nvidia-cusolver-cu12==11.6.1.9 (from torch>=2.1.0->pytorch-lightning)\n",
            "  Using cached nvidia_cusolver_cu12-11.6.1.9-py3-none-manylinux2014_x86_64.whl.metadata (1.6 kB)\n",
            "Requirement already satisfied: nvidia-cusparse-cu12==12.3.1.170 in /usr/local/lib/python3.11/dist-packages (from torch>=2.1.0->pytorch-lightning) (12.3.1.170)\n",
            "Requirement already satisfied: nvidia-nccl-cu12==2.21.5 in /usr/local/lib/python3.11/dist-packages (from torch>=2.1.0->pytorch-lightning) (2.21.5)\n",
            "Requirement already satisfied: nvidia-nvtx-cu12==12.4.127 in /usr/local/lib/python3.11/dist-packages (from torch>=2.1.0->pytorch-lightning) (12.4.127)\n",
            "Requirement already satisfied: nvidia-nvjitlink-cu12==12.4.127 in /usr/local/lib/python3.11/dist-packages (from torch>=2.1.0->pytorch-lightning) (12.4.127)\n",
            "Requirement already satisfied: triton==3.1.0 in /usr/local/lib/python3.11/dist-packages (from torch>=2.1.0->pytorch-lightning) (3.1.0)\n",
            "Requirement already satisfied: sympy==1.13.1 in /usr/local/lib/python3.11/dist-packages (from torch>=2.1.0->pytorch-lightning) (1.13.1)\n",
            "Requirement already satisfied: mpmath<1.4,>=1.1.0 in /usr/local/lib/python3.11/dist-packages (from sympy==1.13.1->torch>=2.1.0->pytorch-lightning) (1.3.0)\n",
            "Requirement already satisfied: numpy>1.20.0 in /usr/local/lib/python3.11/dist-packages (from torchmetrics>=0.7.0->pytorch-lightning) (1.26.4)\n",
            "Requirement already satisfied: aiohappyeyeballs>=2.3.0 in /usr/local/lib/python3.11/dist-packages (from aiohttp!=4.0.0a0,!=4.0.0a1->fsspec[http]>=2022.5.0->pytorch-lightning) (2.4.6)\n",
            "Requirement already satisfied: aiosignal>=1.1.2 in /usr/local/lib/python3.11/dist-packages (from aiohttp!=4.0.0a0,!=4.0.0a1->fsspec[http]>=2022.5.0->pytorch-lightning) (1.3.2)\n",
            "Requirement already satisfied: attrs>=17.3.0 in /usr/local/lib/python3.11/dist-packages (from aiohttp!=4.0.0a0,!=4.0.0a1->fsspec[http]>=2022.5.0->pytorch-lightning) (25.1.0)\n",
            "Requirement already satisfied: frozenlist>=1.1.1 in /usr/local/lib/python3.11/dist-packages (from aiohttp!=4.0.0a0,!=4.0.0a1->fsspec[http]>=2022.5.0->pytorch-lightning) (1.5.0)\n",
            "Requirement already satisfied: multidict<7.0,>=4.5 in /usr/local/lib/python3.11/dist-packages (from aiohttp!=4.0.0a0,!=4.0.0a1->fsspec[http]>=2022.5.0->pytorch-lightning) (6.1.0)\n",
            "Requirement already satisfied: propcache>=0.2.0 in /usr/local/lib/python3.11/dist-packages (from aiohttp!=4.0.0a0,!=4.0.0a1->fsspec[http]>=2022.5.0->pytorch-lightning) (0.3.0)\n",
            "Requirement already satisfied: yarl<2.0,>=1.17.0 in /usr/local/lib/python3.11/dist-packages (from aiohttp!=4.0.0a0,!=4.0.0a1->fsspec[http]>=2022.5.0->pytorch-lightning) (1.18.3)\n",
            "Requirement already satisfied: MarkupSafe>=2.0 in /usr/local/lib/python3.11/dist-packages (from jinja2->torch>=2.1.0->pytorch-lightning) (3.0.2)\n",
            "Requirement already satisfied: idna>=2.0 in /usr/local/lib/python3.11/dist-packages (from yarl<2.0,>=1.17.0->aiohttp!=4.0.0a0,!=4.0.0a1->fsspec[http]>=2022.5.0->pytorch-lightning) (3.10)\n",
            "Using cached pytorch_lightning-2.5.0.post0-py3-none-any.whl (819 kB)\n",
            "Using cached nvidia_cusolver_cu12-11.6.1.9-py3-none-manylinux2014_x86_64.whl (127.9 MB)\n",
            "Using cached torchmetrics-1.6.2-py3-none-any.whl (931 kB)\n",
            "Installing collected packages: nvidia-cusolver-cu12, torchmetrics, pytorch-lightning\n",
            "  Attempting uninstall: nvidia-cusolver-cu12\n",
            "    Found existing installation: nvidia-cusolver-cu12 11.6.3.83\n",
            "    Uninstalling nvidia-cusolver-cu12-11.6.3.83:\n",
            "      Successfully uninstalled nvidia-cusolver-cu12-11.6.3.83\n",
            "Successfully installed nvidia-cusolver-cu12-11.6.1.9 pytorch-lightning-2.5.0.post0 torchmetrics-1.6.2\n"
          ]
        }
      ]
    },
    {
      "cell_type": "markdown",
      "metadata": {
        "id": "ZOSJl-X7zvs4"
      },
      "source": [
        "#### Setup virtual display"
      ]
    },
    {
      "cell_type": "code",
      "execution_count": 14,
      "metadata": {
        "id": "FllWJVrvPhzz",
        "colab": {
          "base_uri": "https://localhost:8080/"
        },
        "outputId": "11138f7c-406f-44e8-91fd-7b483d1600a2"
      },
      "outputs": [
        {
          "output_type": "execute_result",
          "data": {
            "text/plain": [
              "<pyvirtualdisplay.display.Display at 0x794f619f33d0>"
            ]
          },
          "metadata": {},
          "execution_count": 14
        }
      ],
      "source": [
        "from pyvirtualdisplay import Display\n",
        "Display(visible=False, size=(1400, 900)).start()"
      ]
    },
    {
      "cell_type": "markdown",
      "metadata": {
        "id": "Cz8DLleGz_TF"
      },
      "source": [
        "#### Import the necessary code libraries"
      ]
    },
    {
      "cell_type": "code",
      "execution_count": 26,
      "metadata": {
        "id": "iVXUA1JoPmVM"
      },
      "outputs": [],
      "source": [
        "import copy\n",
        "import gym\n",
        "import torch\n",
        "import random\n",
        "\n",
        "import statistics\n",
        "\n",
        "import numpy as np\n",
        "import torch.nn.functional as F\n",
        "\n",
        "from collections import deque, namedtuple\n",
        "from IPython.display import HTML\n",
        "from base64 import b64encode\n",
        "\n",
        "from torch import Tensor, nn\n",
        "from torch.utils.data import DataLoader\n",
        "from torch.utils.data.dataset import IterableDataset\n",
        "from torch.optim import AdamW\n",
        "\n",
        "import pytorch_lightning as pl\n",
        "\n",
        "from pytorch_lightning import LightningModule, Trainer\n",
        "\n",
        "from pytorch_lightning.callbacks import EarlyStopping\n",
        "\n",
        "from gym.wrappers import RecordVideo, RecordEpisodeStatistics, TimeLimit\n",
        "\n",
        "\n",
        "device = 'cuda:0' if torch.cuda.is_available() else 'cpu'\n",
        "accelerator = 'gpu' if torch.cuda.is_available() else 'cpu'\n",
        "\n",
        "num_gpus = torch.cuda.device_count()\n",
        "# Type redeclaration for backwards compatibility.\n",
        "np.bool = np.bool_"
      ]
    },
    {
      "cell_type": "code",
      "execution_count": 16,
      "metadata": {
        "id": "XPGaTA9mPmXn"
      },
      "outputs": [],
      "source": [
        "def display_video(episode=0):\n",
        "  video_file = open(f'/content/videos/rl-video-episode-{episode}.mp4', \"r+b\").read()\n",
        "  video_url = f\"data:video/mp4;base64,{b64encode(video_file).decode()}\"\n",
        "  return HTML(f\"<video width=600 controls><source src='{video_url}'></video>\")"
      ]
    },
    {
      "cell_type": "markdown",
      "metadata": {
        "id": "eLH52SgC0RRI"
      },
      "source": [
        "#### Create the Deep Q-Network"
      ]
    },
    {
      "cell_type": "code",
      "execution_count": 17,
      "metadata": {
        "id": "BL3UviKCPmZ6"
      },
      "outputs": [],
      "source": [
        "class DQN(nn.Module):\n",
        "  def __init__(self, hidden_size, obs_size, n_action):\n",
        "    super().__init__()\n",
        "    self.net = nn.Sequential(\n",
        "        nn.Linear(obs_size, hidden_size),\n",
        "        nn.ReLU(),\n",
        "        nn.Linear(hidden_size, hidden_size),\n",
        "        nn.ReLU(),\n",
        "        nn.Linear(hidden_size, n_action)\n",
        "    )\n",
        "  def forward(self, x):\n",
        "    return self.net(x.float())"
      ]
    },
    {
      "cell_type": "markdown",
      "metadata": {
        "id": "bnk0wSWj0hAz"
      },
      "source": [
        "#### Create the policy"
      ]
    },
    {
      "cell_type": "code",
      "execution_count": 18,
      "metadata": {
        "id": "n0DzHUT_PmcT"
      },
      "outputs": [],
      "source": [
        "def epsilon_greedy(state, env, net, epsilon=0.0):\n",
        "  if np.random.random() < epsilon:\n",
        "    action = env.action_space.sample()\n",
        "  # select the action by P=1-epsilon\n",
        "  else:\n",
        "    state = torch.tensor([state]).to(device)\n",
        "    q_values = net(state)\n",
        "    _, action = torch.max(q_values, dim=1)\n",
        "    action = int(action.item())\n",
        "  return action"
      ]
    },
    {
      "cell_type": "markdown",
      "metadata": {
        "id": "brJmKGkl0jge"
      },
      "source": [
        "#### Create the replay buffer"
      ]
    },
    {
      "cell_type": "code",
      "execution_count": 19,
      "metadata": {
        "id": "9T-fsyriPme6"
      },
      "outputs": [],
      "source": [
        "class ReplayBuffer:\n",
        "   def __init__(self, capacity):\n",
        "     self.buffer = deque(maxlen = capacity)\n",
        "\n",
        "   def __len__(self):\n",
        "     return len(self.buffer)\n",
        "\n",
        "   def append(self, experience):\n",
        "     self.buffer.append(experience)\n",
        "\n",
        "   def sample(self, batch_size):\n",
        "     return random.sample(self.buffer, batch_size)"
      ]
    },
    {
      "cell_type": "code",
      "execution_count": 20,
      "metadata": {
        "id": "nLprQhrtPmhR"
      },
      "outputs": [],
      "source": [
        "class RLDataset(IterableDataset):\n",
        "  def __init__(self, buffer, sample_size = 200):\n",
        "    self.buffer = buffer\n",
        "    self.sample_size = sample_size\n",
        "\n",
        "  def __iter__(self):\n",
        "   for experience in self.buffer.sample(self.sample_size):\n",
        "    yield experience"
      ]
    },
    {
      "cell_type": "markdown",
      "metadata": {
        "id": "0yvDC9qF0oPr"
      },
      "source": [
        "#### Create the environment"
      ]
    },
    {
      "cell_type": "code",
      "execution_count": 21,
      "metadata": {
        "id": "6KlHL-kznY3C"
      },
      "outputs": [],
      "source": [
        "def create_environment(name):\n",
        "  env = gym.make(name)\n",
        "  env = TimeLimit(env, max_episode_steps=400) #normally the agent has 1000 episode steps to land, by setting this to 400 we reduce the accessible time to make it faster\n",
        "  env = RecordVideo(env, video_folder='./videos', episode_trigger=lambda x: x % 50 == 0)\n",
        "  env = RecordEpisodeStatistics(env)\n",
        "  return env"
      ]
    },
    {
      "cell_type": "code",
      "source": [
        "!pip uninstall -y pygame box2d-py\n",
        "!pip install pygame==2.1.3 box2d-py\n",
        "!pip install gym[box2d]"
      ],
      "metadata": {
        "colab": {
          "base_uri": "https://localhost:8080/"
        },
        "id": "inCHcXCnulru",
        "outputId": "b01bf5a2-fb52-4e14-90af-e9dbfb21103e"
      },
      "execution_count": 22,
      "outputs": [
        {
          "output_type": "stream",
          "name": "stdout",
          "text": [
            "Found existing installation: pygame 2.6.1\n",
            "Uninstalling pygame-2.6.1:\n",
            "  Successfully uninstalled pygame-2.6.1\n",
            "\u001b[33mWARNING: Skipping box2d-py as it is not installed.\u001b[0m\u001b[33m\n",
            "\u001b[0mCollecting pygame==2.1.3\n",
            "  Downloading pygame-2.1.3-cp311-cp311-manylinux_2_17_x86_64.manylinux2014_x86_64.whl.metadata (9.3 kB)\n",
            "Collecting box2d-py\n",
            "  Downloading box2d-py-2.3.8.tar.gz (374 kB)\n",
            "\u001b[2K     \u001b[90m━━━━━━━━━━━━━━━━━━━━━━━━━━━━━━━━━━━━━━━━\u001b[0m \u001b[32m374.5/374.5 kB\u001b[0m \u001b[31m5.0 MB/s\u001b[0m eta \u001b[36m0:00:00\u001b[0m\n",
            "\u001b[?25h  Preparing metadata (setup.py) ... \u001b[?25l\u001b[?25hdone\n",
            "Downloading pygame-2.1.3-cp311-cp311-manylinux_2_17_x86_64.manylinux2014_x86_64.whl (13.7 MB)\n",
            "\u001b[2K   \u001b[90m━━━━━━━━━━━━━━━━━━━━━━━━━━━━━━━━━━━━━━━━\u001b[0m \u001b[32m13.7/13.7 MB\u001b[0m \u001b[31m41.8 MB/s\u001b[0m eta \u001b[36m0:00:00\u001b[0m\n",
            "\u001b[?25hBuilding wheels for collected packages: box2d-py\n",
            "  Building wheel for box2d-py (setup.py) ... \u001b[?25l\u001b[?25hdone\n",
            "  Created wheel for box2d-py: filename=box2d_py-2.3.8-cp311-cp311-linux_x86_64.whl size=2379447 sha256=4f88a615a1fc49903d0d599d906dd18d2fde0ddd80883ef9be5c0cee54b95426\n",
            "  Stored in directory: /root/.cache/pip/wheels/3f/95/02/4cb5adc9f6dcaeb9639c2271f630a66ab4440102414804c45c\n",
            "Successfully built box2d-py\n",
            "Installing collected packages: box2d-py, pygame\n",
            "Successfully installed box2d-py-2.3.8 pygame-2.1.3\n",
            "Requirement already satisfied: gym[box2d] in /usr/local/lib/python3.11/dist-packages (0.25.2)\n",
            "Requirement already satisfied: numpy>=1.18.0 in /usr/local/lib/python3.11/dist-packages (from gym[box2d]) (1.26.4)\n",
            "Requirement already satisfied: cloudpickle>=1.2.0 in /usr/local/lib/python3.11/dist-packages (from gym[box2d]) (3.1.1)\n",
            "Requirement already satisfied: gym_notices>=0.0.4 in /usr/local/lib/python3.11/dist-packages (from gym[box2d]) (0.0.8)\n",
            "Collecting box2d-py==2.3.5 (from gym[box2d])\n",
            "  Using cached box2d-py-2.3.5.tar.gz (374 kB)\n",
            "  Preparing metadata (setup.py) ... \u001b[?25l\u001b[?25hdone\n",
            "Collecting pygame==2.1.0 (from gym[box2d])\n",
            "  Using cached pygame-2.1.0.tar.gz (5.8 MB)\n",
            "  \u001b[1;31merror\u001b[0m: \u001b[1msubprocess-exited-with-error\u001b[0m\n",
            "  \n",
            "  \u001b[31m×\u001b[0m \u001b[32mpython setup.py egg_info\u001b[0m did not run successfully.\n",
            "  \u001b[31m│\u001b[0m exit code: \u001b[1;36m1\u001b[0m\n",
            "  \u001b[31m╰─>\u001b[0m See above for output.\n",
            "  \n",
            "  \u001b[1;35mnote\u001b[0m: This error originates from a subprocess, and is likely not a problem with pip.\n",
            "  Preparing metadata (setup.py) ... \u001b[?25l\u001b[?25herror\n",
            "\u001b[1;31merror\u001b[0m: \u001b[1mmetadata-generation-failed\u001b[0m\n",
            "\n",
            "\u001b[31m×\u001b[0m Encountered error while generating package metadata.\n",
            "\u001b[31m╰─>\u001b[0m See above for output.\n",
            "\n",
            "\u001b[1;35mnote\u001b[0m: This is an issue with the package mentioned above, not pip.\n",
            "\u001b[1;36mhint\u001b[0m: See above for details.\n"
          ]
        }
      ]
    },
    {
      "cell_type": "code",
      "source": [
        "env = create_environment('LunarLander-v2')\n",
        "\n",
        "for episode in range(10):\n",
        "  done = False\n",
        "  env.reset()\n",
        "  while not done:\n",
        "    action = env.action_space.sample()\n",
        "    _, _, done, _ = env.step(action)\n"
      ],
      "metadata": {
        "colab": {
          "base_uri": "https://localhost:8080/"
        },
        "id": "ZZB8dhEyurCu",
        "outputId": "7cdb66cd-1a0a-4147-a286-99da8568340f"
      },
      "execution_count": 23,
      "outputs": [
        {
          "output_type": "stream",
          "name": "stderr",
          "text": [
            "<frozen importlib._bootstrap>:241: DeprecationWarning: builtin type SwigPyPacked has no __module__ attribute\n",
            "<frozen importlib._bootstrap>:241: DeprecationWarning: builtin type SwigPyObject has no __module__ attribute\n",
            "<frozen importlib._bootstrap>:241: DeprecationWarning: builtin type swigvarlink has no __module__ attribute\n",
            "/usr/local/lib/python3.11/dist-packages/pygame/pkgdata.py:25: DeprecationWarning: pkg_resources is deprecated as an API. See https://setuptools.pypa.io/en/latest/pkg_resources.html\n",
            "  from pkg_resources import resource_stream, resource_exists\n",
            "/usr/local/lib/python3.11/dist-packages/pkg_resources/__init__.py:3154: DeprecationWarning: Deprecated call to `pkg_resources.declare_namespace('google')`.\n",
            "Implementing implicit namespace packages (as specified in PEP 420) is preferred to `pkg_resources.declare_namespace`. See https://setuptools.pypa.io/en/latest/references/keywords.html#keyword-namespace-packages\n",
            "  declare_namespace(pkg)\n",
            "/usr/local/lib/python3.11/dist-packages/pkg_resources/__init__.py:3154: DeprecationWarning: Deprecated call to `pkg_resources.declare_namespace('google.cloud')`.\n",
            "Implementing implicit namespace packages (as specified in PEP 420) is preferred to `pkg_resources.declare_namespace`. See https://setuptools.pypa.io/en/latest/references/keywords.html#keyword-namespace-packages\n",
            "  declare_namespace(pkg)\n",
            "/usr/local/lib/python3.11/dist-packages/pkg_resources/__init__.py:3154: DeprecationWarning: Deprecated call to `pkg_resources.declare_namespace('sphinxcontrib')`.\n",
            "Implementing implicit namespace packages (as specified in PEP 420) is preferred to `pkg_resources.declare_namespace`. See https://setuptools.pypa.io/en/latest/references/keywords.html#keyword-namespace-packages\n",
            "  declare_namespace(pkg)\n",
            "/usr/local/lib/python3.11/dist-packages/gym/core.py:317: DeprecationWarning: \u001b[33mWARN: Initializing wrapper in old step API which returns one bool instead of two. It is recommended to set `new_step_api=True` to use new step API. This will be the default behaviour in future.\u001b[0m\n",
            "  deprecation(\n",
            "/usr/local/lib/python3.11/dist-packages/gym/wrappers/step_api_compatibility.py:39: DeprecationWarning: \u001b[33mWARN: Initializing environment in old step API which returns one bool instead of two. It is recommended to set `new_step_api=True` to use new step API. This will be the default behaviour in future.\u001b[0m\n",
            "  deprecation(\n",
            "/usr/local/lib/python3.11/dist-packages/gym/wrappers/monitoring/video_recorder.py:78: DeprecationWarning: \u001b[33mWARN: Recording ability for environment LunarLander-v2 initialized with `render_mode=None` is marked as deprecated and will be removed in the future.\u001b[0m\n",
            "  logger.deprecation(\n",
            "/usr/local/lib/python3.11/dist-packages/gym/core.py:43: DeprecationWarning: \u001b[33mWARN: The argument mode in render method is deprecated; use render_mode during environment initialization instead.\n",
            "See here for more information: https://www.gymlibrary.ml/content/api/\u001b[0m\n",
            "  deprecation(\n",
            "/usr/local/lib/python3.11/dist-packages/gym/utils/passive_env_checker.py:241: DeprecationWarning: `np.bool8` is a deprecated alias for `np.bool_`.  (Deprecated NumPy 1.24)\n",
            "  if not isinstance(terminated, (bool, np.bool8)):\n",
            "/usr/local/lib/python3.11/dist-packages/gym/core.py:43: DeprecationWarning: \u001b[33mWARN: The argument mode in render method is deprecated; use render_mode during environment initialization instead.\n",
            "See here for more information: https://www.gymlibrary.ml/content/api/\u001b[0m\n",
            "  deprecation(\n"
          ]
        }
      ]
    },
    {
      "cell_type": "code",
      "source": [
        "env.action_space.sample()\n",
        "import matplotlib.pyplot as plt\n",
        "plt.imshow(env.render(mode='rgb_array'))\n",
        "\n",
        "display_video(episode=0)"
      ],
      "metadata": {
        "colab": {
          "base_uri": "https://localhost:8080/",
          "height": 800
        },
        "id": "R9agF22OuulB",
        "outputId": "2a606dcf-fa12-4094-8d5a-2939da0262e5"
      },
      "execution_count": 24,
      "outputs": [
        {
          "output_type": "execute_result",
          "data": {
            "text/plain": [
              "<IPython.core.display.HTML object>"
            ],
            "text/html": [
              "<video width=600 controls><source src='data:video/mp4;base64,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'></video>"
            ]
          },
          "metadata": {},
          "execution_count": 24
        },
        {
          "output_type": "display_data",
          "data": {
            "text/plain": [
              "<Figure size 640x480 with 1 Axes>"
            ],
            "image/png": "[encoded data removed]"
          },
          "metadata": {}
        }
      ]
    },
    {
      "cell_type": "markdown",
      "metadata": {
        "id": "WLmsqFuW1kkC"
      },
      "source": [
        "#### Create the test/sampling function"
      ]
    },
    {
      "cell_type": "code",
      "execution_count": 24,
      "metadata": {
        "id": "hwnhC_zCwKDm"
      },
      "outputs": [],
      "source": []
    },
    {
      "cell_type": "markdown",
      "metadata": {
        "id": "sgXi6A4Z1p75"
      },
      "source": [
        "#### Create the Deep Q-Learning algorithm"
      ]
    },
    {
      "cell_type": "code",
      "execution_count": 28,
      "metadata": {
        "id": "tOmxUJ1vnY5d"
      },
      "outputs": [],
      "source": [
        "class DeepQLearning(LightningModule):\n",
        "  def __init__(self, env_name, policy= epsilon_greedy, capacity =100_000,\n",
        "               batch_size = 256, lr = 1e-3, hidden_size = 125, gamma = 0.99,\n",
        "               loss_fn = F.smooth_l1_loss, optim = AdamW,\n",
        "               eps_start =1.0, eps_end = 0.15, eps_last_episode = 100,\n",
        "               samples_per_epoch = 10_000, sync_rate = 10 ):\n",
        "    super().__init__()\n",
        "    self.env = create_environment(env_name)\n",
        "\n",
        "    obs_size = self.env.observation_space.shape[0]\n",
        "    n_action = self.env.action_space.n\n",
        "\n",
        "    #self.q_net = DQN(hidden_size=hidden_size, obs_size=obs_size, n_action=n_action)\n",
        "    self.q_net = DQN(hidden_size, obs_size, n_action)\n",
        "\n",
        "    self.target_q_net = copy.deepcopy(self.q_net)\n",
        "\n",
        "    self.policy = policy\n",
        "    self.buffer = ReplayBuffer(capacity=capacity)\n",
        "\n",
        "    self.save_hyperparameters()\n",
        "\n",
        "    while len(self.buffer) < self.hparams.samples_per_epoch:\n",
        "      print(f\"{len(self.buffer)} samples in experience buffer. Filling ... \")\n",
        "      self.play_episode(epsilon = self.hparams.eps_start)\n",
        "\n",
        "  @torch.no_grad()\n",
        "  def play_episode(self, policy=None, epsilon=0.0):\n",
        "    state = self.env.reset()\n",
        "    done = False\n",
        "\n",
        "    while not done:\n",
        "      if policy:\n",
        "        action = policy(state, self.env, self.q_net, epsilon=epsilon)\n",
        "      else:\n",
        "        action = self.env.action_space.sample()\n",
        "      next_state, reward, done, info = self.env.step(action)\n",
        "      exp = (state, action, reward, done, next_state)\n",
        "      self.buffer.append(exp)\n",
        "      state = next_state\n",
        "\n",
        "  # Forward.\n",
        "  def forward(self, x):\n",
        "    return self.q_net(x)\n",
        "\n",
        "  def q_net_parameters(self):\n",
        "    return self.q_net.parameters()\n",
        "\n",
        "  # Configure Optimizer.\n",
        "  def configure_optimizers(self):\n",
        "    q_net_optimizer = self.hparams.optim(self.q_net_parameters(), lr=self.hparams.lr)\n",
        "    return [q_net_optimizer] # put it in [] as we might use different NN and we'll have more than one optimizer\n",
        "\n",
        "  # Create dataloader\n",
        "  def train_dataloader(self):\n",
        "    dataset = RLDataset(self.buffer, self.hparams.samples_per_epoch)\n",
        "    dataloader = DataLoader(\n",
        "        dataset=dataset,\n",
        "        batch_size=self.hparams.batch_size\n",
        "    )\n",
        "    return dataloader\n",
        "\n",
        "  # Training step.\n",
        "  def training_step(self, batch, batch_idx):\n",
        "    states, actions, rewards, dones, next_states = batch\n",
        "    actions = actions.unsqueeze(1)\n",
        "    rewards = rewards.unsqueeze(1)\n",
        "    dones = dones.unsqueeze(1)\n",
        "\n",
        "    state_action_values = self.q_net(states).gather(1, actions)\n",
        "\n",
        "    next_action_values, _ = self.target_q_net(next_states).max(dim=1, keepdim=True)\n",
        "    next_action_values[dones] = 0.0\n",
        "    expected_state_action_values = rewards + self.hparams.gamma * next_action_values\n",
        "\n",
        "    loss = self.hparams.loss_fn(state_action_values, expected_state_action_values)\n",
        "    self.log('episode/Q_Error', loss)\n",
        "    return loss\n",
        "\n",
        "# Training epoch end.\n",
        "  def on_train_epoch_end(self):\n",
        "    epsilon = max(\n",
        "        self.hparams.eps_end,\n",
        "        self.hparams.eps_start - self.current_epoch / self.hparams.eps_last_episode\n",
        "    )\n",
        "\n",
        "    self.play_episode(policy=self.policy, epsilon=epsilon)\n",
        "    self.log('episode/Return', self.env.return_queue[-1])\n",
        "    returns = list(self.env.return_queue)[-100:]\n",
        "    self.log('hp_metrics', statistics.mean(returns))\n",
        "\n",
        "    if self.current_epoch % self.hparams.sync_rate == 0:\n",
        "      self.target_q_net.load_state_dict(self.q_net.state_dict())\n",
        "\n"
      ]
    },
    {
      "cell_type": "markdown",
      "metadata": {
        "id": "iv-ZRdyf4mCt"
      },
      "source": [
        "#### Create the objective function"
      ]
    },
    {
      "cell_type": "code",
      "execution_count": null,
      "metadata": {
        "id": "3B9ZoVV-QHrK"
      },
      "outputs": [],
      "source": []
    },
    {
      "cell_type": "markdown",
      "metadata": {
        "id": "mJUxWPhF47mW"
      },
      "source": [
        "#### Create the optimization study"
      ]
    },
    {
      "cell_type": "code",
      "execution_count": null,
      "metadata": {
        "id": "1MynMxzZQHtz"
      },
      "outputs": [],
      "source": []
    },
    {
      "cell_type": "markdown",
      "metadata": {
        "id": "6mm9P0sX1wAA"
      },
      "source": [
        "#### Purge logs and run the visualization tool (Tensorboard)"
      ]
    },
    {
      "cell_type": "code",
      "execution_count": null,
      "metadata": {
        "id": "MfGQdpn0nY99"
      },
      "outputs": [],
      "source": [
        "# Start tensorboard.\n",
        "!rm -r /content/lightning_logs/\n",
        "!rm -r /content/videos/\n",
        "%load_ext tensorboard\n",
        "%tensorboard --logdir /content/lightning_logs/"
      ]
    },
    {
      "cell_type": "markdown",
      "metadata": {
        "id": "9v1eHYSJ5EpO"
      },
      "source": [
        "#### Run the hyperparameter search"
      ]
    },
    {
      "cell_type": "code",
      "execution_count": null,
      "metadata": {
        "id": "Ig8c_RM8nZLN"
      },
      "outputs": [],
      "source": []
    },
    {
      "cell_type": "markdown",
      "metadata": {
        "id": "oG0rQKyT5H-P"
      },
      "source": [
        "#### Select and use the best hyperparameters"
      ]
    },
    {
      "cell_type": "code",
      "execution_count": null,
      "metadata": {
        "id": "ZiCp91CbPmrn"
      },
      "outputs": [],
      "source": []
    },
    {
      "cell_type": "code",
      "execution_count": null,
      "metadata": {
        "id": "VyXUmpt05WaK"
      },
      "outputs": [],
      "source": [
        "# Start tensorboard.\n",
        "!rm -r /content/lightning_logs/\n",
        "!rm -r /content/videos/\n",
        "%load_ext tensorboard\n",
        "%tensorboard --logdir /content/lightning_logs/"
      ]
    },
    {
      "cell_type": "code",
      "execution_count": null,
      "metadata": {
        "id": "fq8UhUU0QUP-"
      },
      "outputs": [],
      "source": []
    },
    {
      "cell_type": "markdown",
      "metadata": {
        "id": "jD3x39w71xWR"
      },
      "source": [
        "#### Check the resulting policy"
      ]
    },
    {
      "cell_type": "code",
      "execution_count": null,
      "metadata": {
        "id": "TSElgv7I4fE6"
      },
      "outputs": [],
      "source": []
    }
  ],
  "metadata": {
    "colab": {
      "provenance": []
    },
    "kernelspec": {
      "display_name": "Python 3 (ipykernel)",
      "language": "python",
      "name": "python3"
    },
    "language_info": {
      "codemirror_mode": {
        "name": "ipython",
        "version": 3
      },
      "file_extension": ".py",
      "mimetype": "text/x-python",
      "name": "python",
      "nbconvert_exporter": "python",
      "pygments_lexer": "ipython3",
      "version": "3.9.1"
    }
  },
  "nbformat": 4,
  "nbformat_minor": 0
}